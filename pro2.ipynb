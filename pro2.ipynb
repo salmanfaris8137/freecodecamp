{
  "nbformat": 4,
  "nbformat_minor": 0,
  "metadata": {
    "colab": {
      "provenance": []
    },
    "kernelspec": {
      "name": "python3",
      "display_name": "Python 3"
    },
    "language_info": {
      "name": "python"
    }
  },
  "cells": [
    {
      "cell_type": "code",
      "source": [
        "import pandas as pd\n",
        "\n",
        "def calculate_demographic_data(print_data=True):\n",
        "    # Read the dataset into a DataFrame\n",
        "    df = pd.read_csv('demographic_data.csv')\n",
        "\n",
        "    # Calculate the count of people in each race\n",
        "    race_counts = df['race'].value_counts()\n",
        "\n",
        "    # Calculate the average age of men\n",
        "    average_age_men = df.loc[df['sex'] == 'Male', 'age'].mean()\n",
        "\n",
        "    # Calculate the percentage of people with a Bachelor's degree\n",
        "    percentage_bachelors = (df['education'] == 'Bachelors').mean() * 100\n",
        "\n",
        "    # Calculate the percentage of people with advanced education (> Bachelors) earning >50K\n",
        "    higher_education = df[df['education'].isin(['Bachelors', 'Masters', 'Doctorate'])]\n",
        "    lower_education = df[~df['education'].isin(['Bachelors', 'Masters', 'Doctorate'])]\n",
        "    higher_education_rich = (higher_education['salary'] == '>50K').mean() * 100\n",
        "    lower_education_rich = (lower_education['salary'] == '>50K').mean() * 100\n",
        "\n",
        "    # Calculate the minimum number of hours worked per week\n",
        "    min_work_hours = df['hours-per-week'].min()\n",
        "\n",
        "    # Calculate the percentage of people who work the minimum number of hours per week and earn >50K\n",
        "    num_min_workers = df[df['hours-per-week'] == min_work_hours]\n",
        "    rich_percentage = (num_min_workers['salary'] == '>50K').mean() * 100\n",
        "\n",
        "    # Identify the country with the highest percentage of people earning >50K\n",
        "    highest_earning_country = (df[df['salary'] == '>50K']['native-country']\n",
        "                               .value_counts(normalize=True)\n",
        "                               .idxmax())\n",
        "    highest_earning_percentage = (df[(df['native-country'] == highest_earning_country) & (df['salary'] == '>50K')]\n",
        "                                  .shape[0] / df[df['native-country'] == highest_earning_country].shape[0]) * 100\n",
        "\n",
        "    # Identify the most popular occupation for those who earn >50K in India\n",
        "    top_IN_occupation = df[(df['native-country'] == 'India') & (df['salary'] == '>50K')]['occupation'].value_counts().idxmax()\n",
        "\n",
        "    # Store the results in a dictionary\n",
        "    demographic_data = {\n",
        "        'race_counts': race_counts,\n",
        "        'average_age_men': round(average_age_men, 1),\n",
        "        'percentage_bachelors': round(percentage_bachelors, 1),\n",
        "        'higher_education_rich': round(higher_education_rich, 1),\n",
        "        'lower_education_rich': round(lower_education_rich, 1),\n",
        "        'min_work_hours': min_work_hours,\n",
        "        'rich_percentage': round(rich_percentage, 1),\n",
        "        'highest_earning_country': highest_earning_country,\n",
        "        'highest_earning_percentage': round(highest_earning_percentage, 1),\n",
        "        'top_IN_occupation': top_IN_occupation\n",
        "    }\n",
        "\n",
        "    # Print the data if print_data is True\n",
        "    if print_data:\n",
        "        for key, value in demographic_data.items():\n",
        "            print(f\"{key}: {value}\")\n",
        "\n",
        "    return demographic_data"
      ],
      "metadata": {
        "id": "hoD1UM2Nyk0N"
      },
      "execution_count": null,
      "outputs": []
    },
    {
      "cell_type": "code",
      "source": [],
      "metadata": {
        "id": "FQo4avwH8Eqj"
      },
      "execution_count": null,
      "outputs": []
    }
  ]
}